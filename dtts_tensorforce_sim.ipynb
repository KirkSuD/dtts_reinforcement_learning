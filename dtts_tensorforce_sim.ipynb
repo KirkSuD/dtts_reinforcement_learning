{
 "cells": [
  {
   "cell_type": "code",
   "execution_count": 1,
   "id": "bb0b7405",
   "metadata": {
    "_cell_guid": "b1076dfc-b9ad-4769-8c92-a6c4dae69d19",
    "_uuid": "8f2839f25d086af736a60e9eeb907d3b93b6e0e5",
    "execution": {
     "iopub.execute_input": "2023-01-20T22:18:12.410539Z",
     "iopub.status.busy": "2023-01-20T22:18:12.410122Z",
     "iopub.status.idle": "2023-01-20T22:18:12.414377Z",
     "shell.execute_reply": "2023-01-20T22:18:12.413744Z"
    },
    "papermill": {
     "duration": 0.012495,
     "end_time": "2023-01-20T22:18:12.416050",
     "exception": false,
     "start_time": "2023-01-20T22:18:12.403555",
     "status": "completed"
    },
    "tags": []
   },
   "outputs": [],
   "source": [
    "# kaggle/python Docker image: https://github.com/kaggle/docker-python\n",
    "# Input data files read-only \"../input/\"\n",
    "\n",
    "# write up to 20GB to current directory (/kaggle/working/)\n",
    "# write temporary files to /tmp/"
   ]
  },
  {
   "cell_type": "markdown",
   "id": "b126f92d",
   "metadata": {
    "papermill": {
     "duration": 0.0035,
     "end_time": "2023-01-20T22:18:12.423591",
     "exception": false,
     "start_time": "2023-01-20T22:18:12.420091",
     "status": "completed"
    },
    "tags": []
   },
   "source": [
    "# Train Model to Play DTTS"
   ]
  },
  {
   "cell_type": "markdown",
   "id": "67928f74",
   "metadata": {
    "papermill": {
     "duration": 0.003593,
     "end_time": "2023-01-20T22:18:12.430973",
     "exception": false,
     "start_time": "2023-01-20T22:18:12.427380",
     "status": "completed"
    },
    "tags": []
   },
   "source": [
    "## Install Tensorforce"
   ]
  },
  {
   "cell_type": "code",
   "execution_count": 2,
   "id": "f574e37b",
   "metadata": {
    "execution": {
     "iopub.execute_input": "2023-01-20T22:18:12.440178Z",
     "iopub.status.busy": "2023-01-20T22:18:12.439589Z",
     "iopub.status.idle": "2023-01-20T22:19:29.929753Z",
     "shell.execute_reply": "2023-01-20T22:19:29.928209Z"
    },
    "papermill": {
     "duration": 77.498048,
     "end_time": "2023-01-20T22:19:29.932689",
     "exception": false,
     "start_time": "2023-01-20T22:18:12.434641",
     "status": "completed"
    },
    "tags": []
   },
   "outputs": [],
   "source": [
    "!pip install tensorforce > /dev/null 2>&1"
   ]
  },
  {
   "cell_type": "markdown",
   "id": "b4e5f467",
   "metadata": {
    "papermill": {
     "duration": 0.00367,
     "end_time": "2023-01-20T22:19:29.940634",
     "exception": false,
     "start_time": "2023-01-20T22:19:29.936964",
     "status": "completed"
    },
    "tags": []
   },
   "source": [
    "## gdown"
   ]
  },
  {
   "cell_type": "code",
   "execution_count": 3,
   "id": "cacd2f69",
   "metadata": {
    "execution": {
     "iopub.execute_input": "2023-01-20T22:19:29.950551Z",
     "iopub.status.busy": "2023-01-20T22:19:29.949642Z",
     "iopub.status.idle": "2023-01-20T22:20:19.495942Z",
     "shell.execute_reply": "2023-01-20T22:20:19.494194Z"
    },
    "papermill": {
     "duration": 49.553861,
     "end_time": "2023-01-20T22:20:19.498292",
     "exception": false,
     "start_time": "2023-01-20T22:19:29.944431",
     "status": "completed"
    },
    "tags": []
   },
   "outputs": [
    {
     "name": "stderr",
     "output_type": "stream",
     "text": [
      "Retrieving folder list\n"
     ]
    },
    {
     "name": "stdout",
     "output_type": "stream",
     "text": [
      "Processing file 18Po7s1ltwVPQl1nTQ6KU_34OotCci2PZ agent-18780.data-00000-of-00001\n",
      "Processing file 1mAAaVzFYlIfP_wyFZbtDUSu_mOVMgzD8 agent-18780.index\n",
      "Processing file 1lvIxHFyHQ1353rmXg9enchKejf9y1uBi agent-18780.npz\n",
      "Processing file 1Mb2Gn_MISLyc8JsaHmQ5PbWx1R4a6f6u agent.json\n",
      "Processing file 1ZFXlfxWkTyxBx9MpRQ-3KjcDmSKg2NWW checkpoint\n",
      "Retrieving folder 11a3CYLtXld85RRQyVlbdenj1NdJbBEnN tf\n",
      "Retrieving folder 1haHhDMrXqYN000fp15kjSvRLi8cxf2CZ assets\n",
      "Processing file 1QzgfSwg4sflMtYKl6SzCQlbZMeVPA0mP keras_metadata.pb\n",
      "Processing file 1jQcsK3woLs_3NgnOx6fNP8qEWMnqJkMA saved_model.pb\n",
      "Retrieving folder 1yRx-Peh60xzPnlFtgjf8_IBPC1W599bl variables\n",
      "Processing file 1vLkbg6T2SIoOSEkcMYedtkhLC4mh_m2L variables.data-00000-of-00001\n",
      "Processing file 1bhEq76ywfwSGW59qDsTsVkUPFQzuC9y8 variables.index\n",
      "Retrieving folder 1FFjPEbtMtZ5UwhZAyya3k1ZIgTmNI-2a tfjs\n",
      "Processing file 1NuSJcvi9HnBmFl5CeWbZG96o76Hcli8d group1-shard1of1.bin\n",
      "Processing file 1rn5mf1g_3MZ4HwQS2HzT1r-vbnesQFF0 model.json\n",
      "Building directory structure completed\n"
     ]
    },
    {
     "name": "stderr",
     "output_type": "stream",
     "text": [
      "Retrieving folder list completed\n",
      "Building directory structure\n",
      "Downloading...\n",
      "From: https://drive.google.com/uc?id=18Po7s1ltwVPQl1nTQ6KU_34OotCci2PZ\n",
      "To: /kaggle/working/model/sim2_v05_ddqn_m200k_b512_h3_d97_e0_vn01_lr0001_rdt20_v69v82v85v98/agent-18780.data-00000-of-00001\n",
      "100%|██████████| 20.5M/20.5M [00:00<00:00, 51.2MB/s]\n",
      "Downloading...\n",
      "From: https://drive.google.com/uc?id=1mAAaVzFYlIfP_wyFZbtDUSu_mOVMgzD8\n",
      "To: /kaggle/working/model/sim2_v05_ddqn_m200k_b512_h3_d97_e0_vn01_lr0001_rdt20_v69v82v85v98/agent-18780.index\n",
      "100%|██████████| 4.23k/4.23k [00:00<00:00, 6.42MB/s]\n",
      "Downloading...\n",
      "From: https://drive.google.com/uc?id=1lvIxHFyHQ1353rmXg9enchKejf9y1uBi\n",
      "To: /kaggle/working/model/sim2_v05_ddqn_m200k_b512_h3_d97_e0_vn01_lr0001_rdt20_v69v82v85v98/agent-18780.npz\n",
      "100%|██████████| 20.5M/20.5M [00:00<00:00, 72.0MB/s]\n",
      "Downloading...\n",
      "From: https://drive.google.com/uc?id=1Mb2Gn_MISLyc8JsaHmQ5PbWx1R4a6f6u\n",
      "To: /kaggle/working/model/sim2_v05_ddqn_m200k_b512_h3_d97_e0_vn01_lr0001_rdt20_v69v82v85v98/agent.json\n",
      "100%|██████████| 1.03k/1.03k [00:00<00:00, 2.93MB/s]\n",
      "Downloading...\n",
      "From: https://drive.google.com/uc?id=1ZFXlfxWkTyxBx9MpRQ-3KjcDmSKg2NWW\n",
      "To: /kaggle/working/model/sim2_v05_ddqn_m200k_b512_h3_d97_e0_vn01_lr0001_rdt20_v69v82v85v98/checkpoint\n",
      "100%|██████████| 46.9k/46.9k [00:00<00:00, 46.0MB/s]\n",
      "Downloading...\n",
      "From: https://drive.google.com/uc?id=1QzgfSwg4sflMtYKl6SzCQlbZMeVPA0mP\n",
      "To: /kaggle/working/model/sim2_v05_ddqn_m200k_b512_h3_d97_e0_vn01_lr0001_rdt20_v69v82v85v98/tf/keras_metadata.pb\n",
      "100%|██████████| 7.21k/7.21k [00:00<00:00, 14.7MB/s]\n",
      "Downloading...\n",
      "From: https://drive.google.com/uc?id=1jQcsK3woLs_3NgnOx6fNP8qEWMnqJkMA\n",
      "To: /kaggle/working/model/sim2_v05_ddqn_m200k_b512_h3_d97_e0_vn01_lr0001_rdt20_v69v82v85v98/tf/saved_model.pb\n",
      "100%|██████████| 61.0k/61.0k [00:00<00:00, 37.5MB/s]\n",
      "Downloading...\n",
      "From: https://drive.google.com/uc?id=1vLkbg6T2SIoOSEkcMYedtkhLC4mh_m2L\n",
      "To: /kaggle/working/model/sim2_v05_ddqn_m200k_b512_h3_d97_e0_vn01_lr0001_rdt20_v69v82v85v98/tf/variables/variables.data-00000-of-00001\n",
      "100%|██████████| 24.1k/24.1k [00:00<00:00, 21.1MB/s]\n",
      "Downloading...\n",
      "From: https://drive.google.com/uc?id=1bhEq76ywfwSGW59qDsTsVkUPFQzuC9y8\n",
      "To: /kaggle/working/model/sim2_v05_ddqn_m200k_b512_h3_d97_e0_vn01_lr0001_rdt20_v69v82v85v98/tf/variables/variables.index\n",
      "100%|██████████| 511/511 [00:00<00:00, 1.41MB/s]\n",
      "Downloading...\n",
      "From: https://drive.google.com/uc?id=1NuSJcvi9HnBmFl5CeWbZG96o76Hcli8d\n",
      "To: /kaggle/working/model/sim2_v05_ddqn_m200k_b512_h3_d97_e0_vn01_lr0001_rdt20_v69v82v85v98/tfjs/group1-shard1of1.bin\n",
      "100%|██████████| 22.0k/22.0k [00:00<00:00, 16.8MB/s]\n",
      "Downloading...\n",
      "From: https://drive.google.com/uc?id=1rn5mf1g_3MZ4HwQS2HzT1r-vbnesQFF0\n",
      "To: /kaggle/working/model/sim2_v05_ddqn_m200k_b512_h3_d97_e0_vn01_lr0001_rdt20_v69v82v85v98/tfjs/model.json\n",
      "100%|██████████| 2.17k/2.17k [00:00<00:00, 2.22MB/s]\n",
      "Download completed\n"
     ]
    }
   ],
   "source": [
    "\n",
    "!pip install gdown > /dev/null 2>&1\n",
    "\n",
    "# url = \"https://drive.google.com/drive/folders/1P5aco9OBs8WB-a_Fnn0pZT0LY7BI3Vh3\"\n",
    "# url = \"https://drive.google.com/drive/folders/1iheVndbURXwm3nK5VUqa5Bo5y0PgIyJG\"\n",
    "# url = \"https://drive.google.com/drive/folders/1UC9YP5GTrG6eduethW5cq4J2pfe7ZH1T\"\n",
    "# url = \"https://drive.google.com/drive/folders/1xUGM_z7jgsVSnqZ_4PGdIUJicrvQ3vP0\"\n",
    "# url = \"https://drive.google.com/drive/folders/1cv2sVS3ofAt4jebrfir-1uhkIU69Yx71\"\n",
    "# url = \"https://drive.google.com/drive/folders/16FFDPqkooQFBZFRZ402lIjzEhJDOwCNx\"\n",
    "url = \"https://drive.google.com/drive/folders/1h11VYf2rpq4yK2bjbVUI0baIfptQjVE7\"\n",
    "save_dir = \"model\"\n",
    "# save_to = save_dir + \"/sim_v81_ddqn_m200k_b32_h3_d97_e0_vn01_s10k_v67cont\"\n",
    "# save_to = save_dir + \"/sim_v82_ddqn_m200k_b256_h3_d97_e0_vn01_s10k_v69cont\"\n",
    "# save_to = save_dir + \"/sim_v85_ddqn_m200k_b256_h3_d97_e0_vn01_lr00032_v69v82\"\n",
    "# save_to = save_dir + \"/sim_v95_ddqn_m200k_b512_h3_d97_e0_vn01_lr0001_v69v82v85\"\n",
    "# save_to = save_dir + \"/sim_v98_ddqn_m200k_b256_h3_d97_e0_vn01_lr0001_rdt20_v69v82v85\"\n",
    "save_to = save_dir + \"/sim2_v05_ddqn_m200k_b512_h3_d97_e0_vn01_lr0001_rdt20_v69v82v85v98\"\n",
    "!mkdir $save_dir\n",
    "\n",
    "import gdown\n",
    "gdown.download_folder(url, output=save_to)\n",
    "last_agent_path = save_to\n"
   ]
  },
  {
   "cell_type": "code",
   "execution_count": 4,
   "id": "a0312a5f",
   "metadata": {
    "execution": {
     "iopub.execute_input": "2023-01-20T22:20:19.514979Z",
     "iopub.status.busy": "2023-01-20T22:20:19.514416Z",
     "iopub.status.idle": "2023-01-20T22:20:19.523477Z",
     "shell.execute_reply": "2023-01-20T22:20:19.522410Z"
    },
    "papermill": {
     "duration": 0.019288,
     "end_time": "2023-01-20T22:20:19.525247",
     "exception": false,
     "start_time": "2023-01-20T22:20:19.505959",
     "status": "completed"
    },
    "tags": []
   },
   "outputs": [
    {
     "data": {
      "text/plain": [
       "'\\nimport json\\n\\nagent_json = last_agent_path + \"/agent.json\"\\nwith open(agent_json) as file:\\n    agent_config = json.load(file)\\n\\nagent_config[\"batch_size\"] = 512\\n# agent_config[\"batch_size\"] = 1024\\n# agent_config[\"learning_rate\"] = 0.00032\\n# agent_config[\"learning_rate\"] = 0.0001\\n# agent_config[\"learning_rate\"] = 0.00005\\n# agent_config[\"discount\"] = 0.99\\n# agent_config[\"discount\"] = 0.965\\n# agent_config[\"target_sync_frequency\"] = 500\\n# agent_config[\"target_sync_frequency\"] = 40\\n\\nwith open(agent_json, \"w\") as file:\\n    json.dump(agent_config, file)\\nprint(\"agent config changed.\")\\n'"
      ]
     },
     "execution_count": 4,
     "metadata": {},
     "output_type": "execute_result"
    }
   ],
   "source": [
    "# change some hyperparam\n",
    "\"\"\"\n",
    "import json\n",
    "\n",
    "agent_json = last_agent_path + \"/agent.json\"\n",
    "with open(agent_json) as file:\n",
    "    agent_config = json.load(file)\n",
    "\n",
    "agent_config[\"batch_size\"] = 512\n",
    "# agent_config[\"batch_size\"] = 1024\n",
    "# agent_config[\"learning_rate\"] = 0.00032\n",
    "# agent_config[\"learning_rate\"] = 0.0001\n",
    "# agent_config[\"learning_rate\"] = 0.00005\n",
    "# agent_config[\"discount\"] = 0.99\n",
    "# agent_config[\"discount\"] = 0.965\n",
    "# agent_config[\"target_sync_frequency\"] = 500\n",
    "# agent_config[\"target_sync_frequency\"] = 40\n",
    "\n",
    "with open(agent_json, \"w\") as file:\n",
    "    json.dump(agent_config, file)\n",
    "print(\"agent config changed.\")\n",
    "\"\"\""
   ]
  },
  {
   "cell_type": "markdown",
   "id": "0b147f25",
   "metadata": {
    "papermill": {
     "duration": 0.007068,
     "end_time": "2023-01-20T22:20:19.539430",
     "exception": false,
     "start_time": "2023-01-20T22:20:19.532362",
     "status": "completed"
    },
    "tags": []
   },
   "source": [
    "# Environment"
   ]
  },
  {
   "cell_type": "code",
   "execution_count": 5,
   "id": "94a4e749",
   "metadata": {
    "execution": {
     "iopub.execute_input": "2023-01-20T22:20:19.556583Z",
     "iopub.status.busy": "2023-01-20T22:20:19.555917Z",
     "iopub.status.idle": "2023-01-20T22:20:19.578947Z",
     "shell.execute_reply": "2023-01-20T22:20:19.578264Z"
    },
    "papermill": {
     "duration": 0.034301,
     "end_time": "2023-01-20T22:20:19.581450",
     "exception": false,
     "start_time": "2023-01-20T22:20:19.547149",
     "status": "completed"
    },
    "tags": []
   },
   "outputs": [],
   "source": [
    "import random\n",
    "\n",
    "import requests\n",
    "import numpy as np\n",
    "\n",
    "class DttsSimulator:\n",
    "    def __init__(self):\n",
    "        self.flyVelocity = -20\n",
    "        self.velocityX = 12\n",
    "        self.gravity = 54\n",
    "        # self.initialSpikeCount = 3\n",
    "        # self.addSpikePer = 7\n",
    "        # self.initialSpikeCount = 11  # !!!\n",
    "        self.initialSpikeCount = 9  # !!!\n",
    "        self.addSpikePer = 1000  # !!!\n",
    "        self.scoreSpeedAdd = 0.008\n",
    "        # self.scoreSpeedAdd = 0  # !!!\n",
    "        charSize = 1.2 * 2.4\n",
    "        self.charTopBound = 1.5\n",
    "        self.charBottomBound = 27.5\n",
    "        self.charLeftBound = charSize / 2\n",
    "        self.charRightBound = 20 - charSize / 2\n",
    "        self.pineLeftBound = 4.8\n",
    "        self.pineRightBound = 20-4.8\n",
    "        \n",
    "    def start(self):\n",
    "        self.velocityY = self.flyVelocity\n",
    "        self.charDir = 1\n",
    "        self.playing = True\n",
    "        self.charX = 10\n",
    "        self.charY = 14.5\n",
    "        self.charDir = 1\n",
    "        self.spikeCount = self.initialSpikeCount\n",
    "        self.score = 0\n",
    "        self.speed = 1\n",
    "        # self.speed = 1.12  # !!!\n",
    "        self.pinePos = None\n",
    "        self.pineDir = None\n",
    "        self.hasSpike = [False] * 12\n",
    "\n",
    "    def touchedSpike(self):\n",
    "        for i in range(12):\n",
    "            if self.hasSpike[i] and self.charY > i*2.4 + 0.1 and self.charY < i*2.4 + 2.5:\n",
    "                self.playing = False\n",
    "                return True\n",
    "        return False\n",
    "    def addSpike(self):\n",
    "        self.hasSpike = [False] * 12\n",
    "        for i in random.sample(list(range(12)), self.spikeCount):\n",
    "            self.hasSpike[i] = True\n",
    "    def addPine(self, d):\n",
    "        self.pineDir = d\n",
    "        self.pinePos = random.randint(1, 10)\n",
    "    def touchedPine(self):\n",
    "        if self.pineDir is None or self.pinePos is None:\n",
    "            return False\n",
    "        if ((self.pineDir < 0 and self.charX < self.pineLeftBound) or\n",
    "            (self.pineDir > 0 and self.charX > self.pineRightBound)):\n",
    "            if self.charY > self.pinePos*2.4+0.1 and self.charY < self.pinePos*2.4+2.5:\n",
    "                return True\n",
    "        return False\n",
    "\n",
    "    def update(self, action):\n",
    "        if action == 1:\n",
    "            self.velocityY = self.flyVelocity\n",
    "        # real_dt_ms = 5  # !!!\n",
    "        # real_dt_ms = 50\n",
    "        real_dt_ms = random.randint(30, 70)  # !!!\n",
    "        dt = real_dt_ms / 1000 * self.speed\n",
    "        self.charX += self.velocityX * dt * self.charDir\n",
    "        self.charY += self.velocityY * dt + self.gravity * dt * dt / 2;\n",
    "        self.velocityY += self.gravity * dt\n",
    "\n",
    "        scored, pined = False, False\n",
    "        if self.charX >= self.charRightBound:\n",
    "            self.charX = self.charRightBound*2 - self.charX\n",
    "            if not self.touchedSpike():\n",
    "                self.charDir *= -1\n",
    "                self.score += 1\n",
    "                scored = True\n",
    "                self.addSpike()\n",
    "                if self.score % self.addSpikePer == 0 and self.spikeCount < 9:\n",
    "                    self.spikeCount += 1\n",
    "                if self.pineDir is None:\n",
    "                    self.addPine(-1)\n",
    "                self.speed += self.scoreSpeedAdd\n",
    "        elif self.charX <= self.charLeftBound:\n",
    "            self.charX = self.charLeftBound*2 - self.charX\n",
    "            if not self.touchedSpike():\n",
    "                self.charDir *= -1\n",
    "                self.score += 1\n",
    "                scored = True\n",
    "                self.addSpike()\n",
    "                if self.score % self.addSpikePer == 0 and self.spikeCount < 9:\n",
    "                    self.spikeCount += 1\n",
    "                self.speed += self.scoreSpeedAdd\n",
    "\n",
    "        if self.touchedPine():\n",
    "            pined = True\n",
    "            self.addPine(-self.pineDir)\n",
    "        if self.charY <= self.charTopBound:\n",
    "            self.charY = self.charTopBound\n",
    "            self.playing = False\n",
    "        elif self.charY >= self.charBottomBound:\n",
    "            self.charY = self.charBottomBound\n",
    "            self.playing = False\n",
    "        return scored, pined\n",
    "\n",
    "    def state(self):\n",
    "        def scale(value, min_value, max_value):\n",
    "            return (value - min_value) / (max_value - min_value) * 2 - 1\n",
    "        res = [\n",
    "            scale(self.charX, self.charLeftBound, self.charRightBound),\n",
    "            scale(self.charY, self.charTopBound, self.charBottomBound),\n",
    "            self.charDir,\n",
    "            scale(self.velocityY, self.flyVelocity, self.gravity),\n",
    "            scale(self.pinePos or 0, 0, 10),\n",
    "            self.pineDir or 0,\n",
    "            # scale(self.score, 0, 100),  # !!!\n",
    "        ]\n",
    "        for i in self.hasSpike:\n",
    "            res.append(1 if i else -1)\n",
    "        return np.array(res)\n"
   ]
  },
  {
   "cell_type": "code",
   "execution_count": 6,
   "id": "831566d3",
   "metadata": {
    "execution": {
     "iopub.execute_input": "2023-01-20T22:20:19.598127Z",
     "iopub.status.busy": "2023-01-20T22:20:19.597334Z",
     "iopub.status.idle": "2023-01-20T22:20:22.962739Z",
     "shell.execute_reply": "2023-01-20T22:20:22.961608Z"
    },
    "papermill": {
     "duration": 3.37634,
     "end_time": "2023-01-20T22:20:22.965190",
     "exception": false,
     "start_time": "2023-01-20T22:20:19.588850",
     "status": "completed"
    },
    "tags": []
   },
   "outputs": [],
   "source": [
    "from tensorforce.environments import Environment\n",
    "\n",
    "class CustomEnvironment(Environment):\n",
    "\n",
    "    def __init__(self):\n",
    "        super().__init__()\n",
    "        self.dtts = DttsSimulator()\n",
    "        self.dtts.start()\n",
    "\n",
    "    def states(self):\n",
    "        return dict(type='float', shape=(18,))\n",
    "        # return dict(type='float', shape=(19,))  # !!!\n",
    "        # return dict(type='float', shape=(7,))\n",
    "        # return {\"1\": dict(type='float', shape=(6,)), \"2\": dict(type='float', shape=(12, 1))}\n",
    "\n",
    "    def actions(self):\n",
    "        return dict(type='int', num_values=2)\n",
    "\n",
    "    # Optional: should only be defined if environment has a natural fixed\n",
    "    # maximum episode length; otherwise specify maximum number of training\n",
    "    # timesteps via Environment.create(..., max_episode_timesteps=???)\n",
    "    def max_episode_timesteps(self):\n",
    "        return super().max_episode_timesteps()\n",
    "\n",
    "    # Optional additional steps to close environment\n",
    "    def close(self):\n",
    "        super().close()\n",
    "        self.dtts = DttsSimulator()\n",
    "        self.dtts.start()\n",
    "\n",
    "    def reset(self):\n",
    "        self.dtts = DttsSimulator()\n",
    "        self.dtts.start()\n",
    "        return self.dtts.state()\n",
    "\n",
    "    def execute(self, actions):\n",
    "        if not self.dtts.playing:\n",
    "            self.dtts.start()\n",
    "        scored, pined = self.dtts.update(actions)\n",
    "        state = self.dtts.state()\n",
    "        terminal = not self.dtts.playing\n",
    "        reward = int(scored) * 5 + int(pined) - (20 if terminal else 0)\n",
    "        # reward = int(pined) - (20 if terminal else 0)  # !!!\n",
    "        return state, terminal, reward\n"
   ]
  },
  {
   "cell_type": "markdown",
   "id": "8e7e1416",
   "metadata": {
    "papermill": {
     "duration": 0.007576,
     "end_time": "2023-01-20T22:20:22.979978",
     "exception": false,
     "start_time": "2023-01-20T22:20:22.972402",
     "status": "completed"
    },
    "tags": []
   },
   "source": [
    "# Train"
   ]
  },
  {
   "cell_type": "code",
   "execution_count": 7,
   "id": "c9f2d69a",
   "metadata": {
    "execution": {
     "iopub.execute_input": "2023-01-20T22:20:22.996477Z",
     "iopub.status.busy": "2023-01-20T22:20:22.995578Z",
     "iopub.status.idle": "2023-01-21T04:26:27.787388Z",
     "shell.execute_reply": "2023-01-21T04:26:27.785408Z"
    },
    "papermill": {
     "duration": 21964.842133,
     "end_time": "2023-01-21T04:26:27.829113",
     "exception": false,
     "start_time": "2023-01-20T22:20:22.986980",
     "status": "completed"
    },
    "tags": []
   },
   "outputs": [
    {
     "name": "stdout",
     "output_type": "stream",
     "text": [
      "agent loaded\n",
      "model name: sim2_v08_ddqn_m200k_b512_h3_d97_e0_vn01_lr0001_rdt20_single_v69v82v85v98v05\n",
      "Start training.\n",
      "Finish training.\n"
     ]
    }
   ],
   "source": [
    "import os\n",
    "import csv\n",
    "\n",
    "from tqdm.notebook import tqdm\n",
    "from tensorforce.agents import Agent\n",
    "from tensorforce.execution import Runner\n",
    "from tensorforce.core.networks import AutoNetwork\n",
    "\n",
    "train_env = Environment.create(environment=CustomEnvironment())\n",
    "\n",
    "# saver_config = dict(frequency=5, unit=\"episodes\", max_checkpoints=200)\n",
    "saver_config = dict(frequency=20, unit=\"episodes\", max_checkpoints=500)\n",
    "summarizer_config = dict(directory=\"log/tensorforce_tensorboard\")\n",
    "\n",
    "class ProgbarLogger:\n",
    "    def __init__(self, total, print_new_line=False):\n",
    "        self.print_new_line = print_new_line\n",
    "        self.pbar = tqdm(total=total)\n",
    "\n",
    "    def __call__(self, runner, parallel_idx):\n",
    "        self.pbar.n = runner.episodes - 1\n",
    "        desc = f\"Iter {runner.episodes}/{runner.num_episodes} return: {runner.episode_return[0]}\"\n",
    "        self.pbar.desc = desc\n",
    "        self.pbar.update()\n",
    "        if self.print_new_line:\n",
    "            print()\n",
    "\n",
    "class CSVLogger:\n",
    "    def __init__(self, filename, separator=\",\"):\n",
    "        self.filename = filename\n",
    "        self.separator = separator\n",
    "\n",
    "    def __call__(self, runner, parallel_idx):\n",
    "        try:\n",
    "            open(self.filename).close()\n",
    "        except FileNotFoundError:\n",
    "            header = [\"episode\", \"return\"]\n",
    "            with open(self.filename, \"w\", newline=\"\", encoding=\"utf-8-sig\") as file:\n",
    "                writer = csv.writer(file, delimiter=self.separator)\n",
    "                writer.writerow(header)\n",
    "        data = [runner.episodes, runner.episode_return[0]]\n",
    "        with open(self.filename, \"a\", newline=\"\", encoding=\"utf-8-sig\") as file:\n",
    "            writer = csv.writer(file, delimiter=self.separator)\n",
    "            writer.writerow(data)\n",
    "\n",
    "class Serialize:\n",
    "    def __init__(self, functions):\n",
    "        self.functions = functions\n",
    "\n",
    "    def __call__(self, *args, **kwargs):\n",
    "        for f in self.functions:\n",
    "            f(*args, **kwargs)\n",
    "\n",
    "# tensorforce\n",
    "# agent = Agent.create(\n",
    "#     agent='tensorforce', environment=train_env,\n",
    "#     update=64,\n",
    "#     optimizer=dict(optimizer='adam', learning_rate=1e-3),\n",
    "#     objective='policy_gradient',\n",
    "#     reward_estimation=dict(horizon=25, discount=0.97),\n",
    "#     # optional\n",
    "#     memory=1000,\n",
    "#     exploration=0.1,\n",
    "# )\n",
    "\n",
    "# vpg/reinforce\n",
    "# agent = Agent.create(\n",
    "#     agent='vpg', environment=train_env,\n",
    "#     max_episode_timesteps=25*40,\n",
    "#     batch_size=25,\n",
    "#     # optional\n",
    "#     discount=0.97,\n",
    "#     exploration=0.1,\n",
    "# )\n",
    "\n",
    "# ppo\n",
    "# agent = Agent.create(\n",
    "#     agent='ppo', environment=train_env,\n",
    "#     batch_size=25,\n",
    "#     # learning_rate=1e-3,\n",
    "#     # max_episode_timesteps=25*40,\n",
    "#     # optional\n",
    "#     discount=0.97,\n",
    "#     exploration=0.1,\n",
    "# )\n",
    "\n",
    "# trpo\n",
    "# agent = Agent.create(\n",
    "#     agent='trpo', environment=train_env,\n",
    "#     max_episode_timesteps=25*40, batch_size=10\n",
    "# )\n",
    "\n",
    "# dqn\n",
    "# agent = Agent.create(\n",
    "#     agent='dqn', environment=train_env,\n",
    "#     memory=100, batch_size=10\n",
    "# )\n",
    "\n",
    "# ddqn\n",
    "# definitely working, just need more tuning\n",
    "# i've seen it passed to level 10\n",
    "# model_name = \"v01_ddqn_mem5k_bs25_h25_d97_e10\"\n",
    "# model_name = \"v02_ddqn_mem5k_bs25_h25_d97_e10decay97\"\n",
    "# model_name = \"v03_ddqn_mem50k_bs250_h25_d97_e10decay97\"\n",
    "# model_name = \"v04_ddqn_mem50k_bs250_h25_d97_e10decay97_upweight20\"\n",
    "# model_name = \"v05_ddqn_mem5k_bs25_h25_d97_e10decay97_upweight20\"\n",
    "# model_name = \"v06_ddqn_mem50k_bs25_h25_d97_e10decay995_upweight20\"\n",
    "# model_name = \"v07_ddqn_mem50k_bs25_h25_d97_e10decay995\"\n",
    "# model_name = \"v08_ddqn_mem50k_bs25_h25_d97_e10\"\n",
    "# model_name = \"v09_ddqn_mem50k_bs25_h25_d97_e01\"\n",
    "# model_name = \"v10_ddqn_mem50k_bs25_h25_d97_e10dec995_lr001dec998\"\n",
    "\n",
    "# model_name = \"v11_ddqn_m50k_b25_h25_d97_e02\"\n",
    "# model_name = \"v12_ddqn_m50k_b25_h25_d97_e005\"\n",
    "# model_name = \"v13_ddqn_m50k_b250_h25_d97_e01\"\n",
    "# model_name = \"v14_ddqn_m200k_b250_h25_d97_e01\"\n",
    "# model_name = \"v15_ddqn_m200k_b1k_h25_d97_e01\"\n",
    "# model_name = \"v16_ddqn_m50k_b25_h25_d97_e01_sf10\"\n",
    "# model_name = \"v17_ddqn_m50k_b25_h25_d97_e01_sf40\"\n",
    "# model_name = \"v18_ddqn_m50k_b25_h25_d97_e01_sf120\"\n",
    "# model_name = \"v19_ddqn_m50k_b25_h25_d97_e01_vn01\"\n",
    "# model_name = \"v20_ddqn_m50k_b25_h25_d97_e01_vn10\"\n",
    "\n",
    "# model_name = \"v22_ddqn_m50k_bs25_h25_d97_e0\"\n",
    "# model_name = \"v23_ddqn_m50k_bs25_h25_d97_e002\"\n",
    "# model_name = \"v24_ddqn_m50k_bs25_h25_d97_e007\"\n",
    "# model_name = \"v25_ddqn_m50k_bs25_h25_d97_e01_sf60\"\n",
    "# model_name = \"v26_ddqn_m50k_bs25_h25_d97_e01_sf80\"\n",
    "# model_name = \"v27_ddqn_m50k_bs25_h25_d97_e005_sf40\"\n",
    "# model_name = \"v28_ddqn_mem50k_bs25_h25_d97_e0_vn01\"\n",
    "# model_name = \"v29_ddqn_mem50k_bs25_h25_d97_e01_vn003\"\n",
    "# model_name = \"v30_ddqn_mem50k_bs25_h25_d97_e005_vn003\"\n",
    "# model_name = \"v31_ddqn_mem50k_bs25_h25_d97_e005_sf40_vn003\"\n",
    "\n",
    "# model_name = \"v61_ddqn_m50k_b32_h3_d99_e0_vn50_lr0001_net256x1_sf500_start10k\"\n",
    "# model_name = \"v61_ddqn_b32_h3_d99_vn50_lr0001_net256_sf500_su10k\"\n",
    "# model_name = \"sim_v58_ddqn_m50k_b32_h3_d97_e0_vn01\"\n",
    "\n",
    "# model_name = \"sim_v66_ddqn_m50k_b32_h3_d97_e0_vn01_s10k\"\n",
    "# model_name = \"sim_v67_ddqn_m200k_b32_h3_d97_e0_vn01_s10k\"\n",
    "# model_name = \"sim_v68_ddqn_m50k_b256_h3_d97_e0_vn01_s10k\"\n",
    "# model_name = \"sim_v69_ddqn_m200k_b256_h3_d97_e0_vn01_s10k\"\n",
    "# model_name = \"sim_v70_ddqn_m50k_b32_h1_d97_e0_vn01_s10k\"\n",
    "# model_name = \"sim_v71_ddqn_m50k_b32_h5_d97_e0_vn01_s10k\"\n",
    "# model_name = \"sim_v72_ddqn_m50k_b32_h3_d97_e0_vn01_s10k_lr0001\"\n",
    "# model_name = \"sim_v73_ddqn_m50k_b32_h3_d97_e0_vn01_s10k_lr0005d9997\"\n",
    "# model_name = \"sim_v74_ddqn_m50k_b32_h3_d97_e0_vn01_s10k_l2reg01\"\n",
    "# model_name = \"sim_v75_ddqn_m200k_b256_h3_d97_e0_vn01_s10k_l2reg01_lr0005d9997\"\n",
    "\n",
    "# model_name = \"sim_v76_ddqn_m500k_b256_h3_d97_e0_vn01_s10k\"\n",
    "# model_name = \"sim_v77_ddqn_m200k_b256_h3_d97_e0_vn01\"\n",
    "# model_name = \"sim_v78_ddqn_m200k_b32_h2_d97_e0_vn01_s10k\"\n",
    "# model_name = \"sim_v79_ddqn_m200k_b32_h4_d97_e0_vn01_s10k\"\n",
    "# model_name = \"sim_v80_ddqn_m200k_b32_h3_d97_e0_vn01_s10k_env5ms\"\n",
    "# model_name = \"sim_v81_ddqn_m200k_b32_h3_d97_e0_vn01_s10k_v67cont\"\n",
    "# model_name = \"sim_v82_ddqn_m200k_b256_h3_d97_e0_vn01_s10k_v69cont\"\n",
    "\n",
    "# model_name = \"sim_v83_ddqn_m200k_b512_h3_d97_e0_vn01_v69v82\"\n",
    "# model_name = \"sim_v84_ddqn_m200k_b1k_h3_d97_e0_vn01_v69v82\"\n",
    "# model_name = \"sim_v85_ddqn_m200k_b256_h3_d97_e0_vn01_lr00032_v69v82\"\n",
    "# model_name = \"sim_v86_ddqn_m200k_b256_h3_d97_e0_vn01_lr0001_v69v82\"\n",
    "# model_name = \"sim_v87_ddqn_m200k_b256_h3_d99_e0_vn01_v69v82\"\n",
    "# model_name = \"sim_v88_ddqn_m200k_b256_h3_d97_e0_vn01_sf500_v69v82\"\n",
    "# model_name = \"sim_v89_ddqn_m200k_b256_h3_d97_e0_vn01_sf40_v69v82\"\n",
    "# model_name = \"sim_v90_ddqn_m200k_b256_h3_d97_e0_vn01_nospeed_v69v82\"\n",
    "\n",
    "# model_name = \"sim_v91_ddqn_m200k_b256_h3_d97_e0_vn01_lr00032_v69v82v85\"\n",
    "# model_name = \"sim_v92_ddqn_m200k_b256_h3_d97_e0_vn01_lr0001_v69v82v85\"\n",
    "# model_name = \"sim_v93_ddqn_m200k_b256_h3_d97_e0_vn01_lr00005_v69v82v85\"\n",
    "# model_name = \"sim_v94_ddqn_m200k_b256_h3_d965_e0_vn01_lr0001_v69v82v85\"\n",
    "# model_name = \"sim_v95_ddqn_m200k_b512_h3_d97_e0_vn01_lr0001_v69v82v85\"\n",
    "# model_name = \"sim_v96_ddqn_m200k_b256_h3_d97_e0_vn01_lr0001_sf40_v69v82v85\"\n",
    "# model_name = \"sim_v97_ddqn_m200k_b256_h3_d97_e0_vn01_lr0001_single_v69v82v85\"\n",
    "# model_name = \"sim_v98_ddqn_m200k_b256_h3_d97_e0_vn01_lr0001_rdt20_v69v82v85\"\n",
    "# model_name = \"sim_v99_ddqn_m200k_b256_h3_d97_e0_vn01_lr0001_speed112_v69v82v85\"\n",
    "\n",
    "# model_name = \"sim2_v01_ddqn_m200k_b512_h3_d97_e0_vn01_lr0001_v69v82v85v95\"\n",
    "# model_name = \"sim2_v02_ddqn_m200k_b512_h3_d97_e0_vn01_lr00005_v69v82v85v95\"\n",
    "# model_name = \"sim2_v03_ddqn_m200k_b1k_h3_d97_e0_vn01_lr0001_v69v82v85v95\"\n",
    "# model_name = \"sim2_v04_ddqn_m200k_b1k_h3_d97_e0_vn01_lr00005_v69v82v85v95\"\n",
    "# model_name = \"sim2_v05_ddqn_m200k_b512_h3_d97_e0_vn01_lr0001_rdt20_v69v82v85v98\"\n",
    "# model_name = \"new_v01_ddqn_m200k_b256_h3_d97_e0_vn01_s10k\"  # 5000ep\n",
    "# model_name = \"new_v02_ddqn_m200k_b256_h3_d97_e0_vn01_s10k\"  # again 10000ep\n",
    "# model_name = \"new_v03_ddqn_m200k_b256_h3_d97_e0_vn01_s10k_rdt20\"\n",
    "# model_name = \"new_v04_ddqn_m200k_b256_h3_d97_e0_vn01_s10k_single\"\n",
    "# model_name = \"new_v05_ddqn_m200k_b256_h3_d97_e0_vn01_s10k_pine\"\n",
    "# model_name = \"sim2_v06_ddqn_m200k_b512_h3_d97_e0_vn01_lr0001_rdt20_v69v82v85v98v05\"\n",
    "# model_name = \"sim2_v07_ddqn_m200k_b512_h3_d97_e0_vn01_lr0001_rdt20_pine_v69v82v85v98v05\"\n",
    "model_name = \"sim2_v08_ddqn_m200k_b512_h3_d97_e0_vn01_lr0001_rdt20_single_v69v82v85v98v05\"\n",
    "\n",
    "model_save_dir = f\"model/{model_name}\"\n",
    "# if os.path.exists(model_save_dir):\n",
    "#     agent = Agent.load(directory=model_save_dir)\n",
    "#     print(\"agent loaded\")\n",
    "if True:\n",
    "# if False:\n",
    "    agent = Agent.load(directory=last_agent_path)\n",
    "    print(\"agent loaded\")\n",
    "else:\n",
    "    agent = Agent.create(\n",
    "        agent='ddqn',\n",
    "        environment=train_env,\n",
    "        saver=dict(directory=model_save_dir, **saver_config),\n",
    "        summarizer=dict(filename=f\"tb-{model_name}\", **summarizer_config),\n",
    "        # # required\n",
    "#         memory=5000,\n",
    "#         memory=50000,\n",
    "        memory=200000,\n",
    "#         memory=500000,\n",
    "#         batch_size=25,\n",
    "#         batch_size=32,\n",
    "#         batch_size=250,\n",
    "        batch_size=256,\n",
    "#         batch_size=1000,\n",
    "        # # optional\n",
    "#         horizon=1,\n",
    "#         horizon=2,\n",
    "        horizon=3,\n",
    "#         horizon=4,\n",
    "#         horizon=5,\n",
    "#         horizon=25,\n",
    "        discount=0.97,\n",
    "#         discount=0.99,\n",
    "#         target_update_weight=0.2,\n",
    "#         exploration=0.1,\n",
    "#         exploration=0.02,\n",
    "#         exploration=0.01,\n",
    "#         exploration=0.007,\n",
    "#         exploration=0.005,\n",
    "#         exploration=0.002,\n",
    "#         exploration=dict(type=\"exponential\", unit=\"episodes\", num_steps=1000, initial_value=0.1, decay_rate=0.97),\n",
    "#         exploration=dict(type=\"exponential\", unit=\"episodes\", num_steps=1000, initial_value=0.1, decay_rate=0.995),\n",
    "#         learning_rate=1e-4,\n",
    "#         learning_rate=dict(type=\"exponential\", unit=\"episodes\", num_steps=1000, initial_value=1e-3, decay_rate=0.998),\n",
    "#         learning_rate=dict(type=\"exponential\", unit=\"episodes\", num_steps=10000, initial_value=0.0005, decay_rate=0.9997),\n",
    "#         target_sync_frequency=10,\n",
    "#         target_sync_frequency=40,\n",
    "#         target_sync_frequency=60,\n",
    "#         target_sync_frequency=80,\n",
    "#         target_sync_frequency=120,\n",
    "#         target_sync_frequency=500,\n",
    "        start_updating=10000,\n",
    "        variable_noise=0.01,\n",
    "#         variable_noise=0.1,\n",
    "#         variable_noise=0.5,\n",
    "#         l2_regularization=0.01,\n",
    "        # network=AutoNetwork(depth=3),\n",
    "        # network=[\n",
    "        #     dict(name=\"dense0\", type='dense', size=64, activation='tanh'),\n",
    "        #     dict(name=\"dense1\", type='dense', size=64, activation='tanh'),\n",
    "        #     dict(name=\"dense2\", type='dense', size=64, activation='tanh'),\n",
    "        # ],\n",
    "#         network=[\n",
    "#             dict(name=\"dense0\", type='dense', size=256, activation='tanh'),\n",
    "#         ],\n",
    "        # network=[\n",
    "        #     dict(name=\"dense0\", type='dense', size=64, activation='leaky-relu'),\n",
    "        #     dict(name=\"dense1\", type='dense', size=64, activation='leaky-relu'),\n",
    "        #     dict(name=\"dense2\", type='dense', size=64, activation='leaky-relu'),\n",
    "        # ],\n",
    "        # network=model,\n",
    "    )\n",
    "\n",
    "# dueling_dqn worth trying?\n",
    "# agent = Agent.create(\n",
    "#     agent='dueling_dqn', environment=train_env,\n",
    "#     memory=100, batch_size=10\n",
    "# )\n",
    "\n",
    "# ac\n",
    "# agent = Agent.create(\n",
    "#     agent='ac', environment=train_env,\n",
    "#     batch_size=10\n",
    "# )\n",
    "\n",
    "# a2c\n",
    "# model_name = \"a2c_bs25_h25_d97_e10_score1x5x20x\"\n",
    "# agent = Agent.create(\n",
    "#     agent='a2c',\n",
    "#     environment=train_env,\n",
    "#     saver=dict(directory=f\"model/{model_name}\", **saver_config),\n",
    "#     summarizer=dict(filename=f\"tb-{model_name}\", **summarizer_config),\n",
    "#     batch_size=25,\n",
    "#     # optional\n",
    "#     horizon=25,\n",
    "#     discount=0.97,\n",
    "#     exploration=0.1,\n",
    "# )\n",
    "\n",
    "# print(agent.get_architecture())\n",
    "runner = Runner(agent, environment=train_env)\n",
    "# num_episodes = 40 # test\n",
    "# num_episodes = 4000\n",
    "# num_episodes = 5000\n",
    "num_episodes = 10000\n",
    "# input(\"Press ENTER to run...\")\n",
    "# time.sleep(5)\n",
    "print(\"model name:\", model_name)\n",
    "print(\"Start training.\")\n",
    "runner.run(num_episodes=num_episodes, use_tqdm=False,\n",
    "    callback=CSVLogger(f\"train.{model_name}.log.csv\"))\n",
    "#     callback=Serialize([\n",
    "#        ProgbarLogger(num_episodes), CSVLogger(f\"train.{model_name}.log.csv\")]))\n",
    "# runner.close()\n",
    "print(\"Finish training.\")\n",
    "\n",
    "# hyperparam to try:\n",
    "# memory bigger ?\n",
    "# warm-up ?\n",
    "# batch size ?\n",
    "# model sync count / update freq ?\n",
    "# lr smaller ?\n",
    "# discount ?\n",
    "# exploration ?\n"
   ]
  },
  {
   "cell_type": "markdown",
   "id": "2245db79",
   "metadata": {
    "papermill": {
     "duration": 0.007754,
     "end_time": "2023-01-21T04:26:27.844927",
     "exception": false,
     "start_time": "2023-01-21T04:26:27.837173",
     "status": "completed"
    },
    "tags": []
   },
   "source": [
    "# Plot return"
   ]
  },
  {
   "cell_type": "code",
   "execution_count": 8,
   "id": "a7ab6ec0",
   "metadata": {
    "execution": {
     "iopub.execute_input": "2023-01-21T04:26:27.863731Z",
     "iopub.status.busy": "2023-01-21T04:26:27.863223Z",
     "iopub.status.idle": "2023-01-21T04:26:28.305760Z",
     "shell.execute_reply": "2023-01-21T04:26:28.304196Z"
    },
    "papermill": {
     "duration": 0.45604,
     "end_time": "2023-01-21T04:26:28.308626",
     "exception": false,
     "start_time": "2023-01-21T04:26:27.852586",
     "status": "completed"
    },
    "tags": []
   },
   "outputs": [
    {
     "name": "stdout",
     "output_type": "stream",
     "text": [
      "count    10000.000000\n",
      "mean         2.022700\n",
      "std         19.067484\n",
      "min        -15.000000\n",
      "25%        -10.000000\n",
      "50%         -4.000000\n",
      "75%         10.000000\n",
      "max        156.000000\n",
      "Name: return, dtype: float64\n"
     ]
    },
    {
     "data": {
      "text/plain": [
       "<AxesSubplot:>"
      ]
     },
     "execution_count": 8,
     "metadata": {},
     "output_type": "execute_result"
    },
    {
     "data": {
      "image/png": "[encoded data removed]",
      "text/plain": [
       "<Figure size 432x288 with 1 Axes>"
      ]
     },
     "metadata": {
      "needs_background": "light"
     },
     "output_type": "display_data"
    }
   ],
   "source": [
    "import pandas as pd\n",
    "\n",
    "df = pd.read_csv(f\"train.{model_name}.log.csv\")\n",
    "print(df[\"return\"].describe())\n",
    "df[\"return\"].plot()"
   ]
  },
  {
   "cell_type": "code",
   "execution_count": 9,
   "id": "b6de928a",
   "metadata": {
    "execution": {
     "iopub.execute_input": "2023-01-21T04:26:28.326725Z",
     "iopub.status.busy": "2023-01-21T04:26:28.326309Z",
     "iopub.status.idle": "2023-01-21T04:26:28.500985Z",
     "shell.execute_reply": "2023-01-21T04:26:28.499188Z"
    },
    "papermill": {
     "duration": 0.186241,
     "end_time": "2023-01-21T04:26:28.503241",
     "exception": false,
     "start_time": "2023-01-21T04:26:28.317000",
     "status": "completed"
    },
    "tags": []
   },
   "outputs": [
    {
     "name": "stdout",
     "output_type": "stream",
     "text": [
      "count    9501.000000\n",
      "mean        2.135620\n",
      "std         1.223231\n",
      "min        -2.246000\n",
      "25%         1.418000\n",
      "50%         2.296000\n",
      "75%         3.042000\n",
      "max         4.578000\n",
      "Name: return, dtype: float64\n"
     ]
    },
    {
     "data": {
      "text/plain": [
       "<AxesSubplot:>"
      ]
     },
     "execution_count": 9,
     "metadata": {},
     "output_type": "execute_result"
    },
    {
     "data": {
      "image/png": "[encoded data removed]",
      "text/plain": [
       "<Figure size 432x288 with 1 Axes>"
      ]
     },
     "metadata": {
      "needs_background": "light"
     },
     "output_type": "display_data"
    }
   ],
   "source": [
    "ma_window = 500\n",
    "df_ma = (df[\"return\"].rolling(ma_window).sum() / ma_window)\n",
    "print(df_ma.describe())\n",
    "df_ma.plot()"
   ]
  },
  {
   "cell_type": "markdown",
   "id": "47ffdae9",
   "metadata": {
    "papermill": {
     "duration": 0.00802,
     "end_time": "2023-01-21T04:26:28.519826",
     "exception": false,
     "start_time": "2023-01-21T04:26:28.511806",
     "status": "completed"
    },
    "tags": []
   },
   "source": [
    "### Save"
   ]
  },
  {
   "cell_type": "code",
   "execution_count": 10,
   "id": "fcf6029f",
   "metadata": {
    "execution": {
     "iopub.execute_input": "2023-01-21T04:26:28.537895Z",
     "iopub.status.busy": "2023-01-21T04:26:28.537530Z",
     "iopub.status.idle": "2023-01-21T04:26:28.545010Z",
     "shell.execute_reply": "2023-01-21T04:26:28.543155Z"
    },
    "papermill": {
     "duration": 0.019347,
     "end_time": "2023-01-21T04:26:28.547377",
     "exception": false,
     "start_time": "2023-01-21T04:26:28.528030",
     "status": "completed"
    },
    "tags": []
   },
   "outputs": [
    {
     "data": {
      "text/plain": [
       "'\\nimport keras\\nfrom keras import layers as L\\n\\nmodel = keras.Sequential([\\n    L.Input(18),\\n    L.Dense(64, activation=\"tanh\"),\\n    L.Dense(64, activation=\"tanh\"),\\n    L.Dense(2),\\n], name=\"mlp_input18_dense64relu2x_dense2\")\\nmodel.summary()\\nprint(model.input_shape, model.output_shape)\\nprint(\"weigths:\", [i.shape for i in model.get_weights()])\\n'"
      ]
     },
     "execution_count": 10,
     "metadata": {},
     "output_type": "execute_result"
    }
   ],
   "source": [
    "\"\"\"\n",
    "import keras\n",
    "from keras import layers as L\n",
    "\n",
    "model = keras.Sequential([\n",
    "    L.Input(18),\n",
    "    L.Dense(64, activation=\"tanh\"),\n",
    "    L.Dense(64, activation=\"tanh\"),\n",
    "    L.Dense(2),\n",
    "], name=\"mlp_input18_dense64relu2x_dense2\")\n",
    "model.summary()\n",
    "print(model.input_shape, model.output_shape)\n",
    "print(\"weigths:\", [i.shape for i in model.get_weights()])\n",
    "\"\"\""
   ]
  },
  {
   "cell_type": "code",
   "execution_count": 11,
   "id": "30dc24c7",
   "metadata": {
    "execution": {
     "iopub.execute_input": "2023-01-21T04:26:28.567223Z",
     "iopub.status.busy": "2023-01-21T04:26:28.566084Z",
     "iopub.status.idle": "2023-01-21T04:26:28.573260Z",
     "shell.execute_reply": "2023-01-21T04:26:28.572465Z"
    },
    "papermill": {
     "duration": 0.018994,
     "end_time": "2023-01-21T04:26:28.575184",
     "exception": false,
     "start_time": "2023-01-21T04:26:28.556190",
     "status": "completed"
    },
    "tags": []
   },
   "outputs": [
    {
     "data": {
      "text/plain": [
       "'\\nprint(agent.get_architecture())\\nnpz_path = agent.save(directory=\"model\", format=\\'numpy\\', append=\\'episodes\\')\\nprint(npz_path)\\ndata = np.load(npz_path)\\n# print(data.files)\\n\\nkeys = [\\n    \\'policy/network/dense0/weights\\',\\n    \\'policy/network/dense0/bias\\',\\n    \\'policy/network/dense1/weights\\',\\n    \\'policy/network/dense1/bias\\',\\n    \\'policy/action_value/linear/weights\\',\\n    \\'policy/action_value/linear/bias\\',\\n]\\nmodel.set_weights([data[k] for k in keys])\\nmodel.save(f\"model/tf\")\\n'"
      ]
     },
     "execution_count": 11,
     "metadata": {},
     "output_type": "execute_result"
    }
   ],
   "source": [
    "# # convert to Keras SavedModel by building model then set weights because\n",
    "# # agent.save(directory=f\"model/tf-{model_name}\", format='saved-model') would cause\n",
    "# # AssertionError: Tried to export a function which references 'untracked' resource Tensor\n",
    "\"\"\"\n",
    "print(agent.get_architecture())\n",
    "npz_path = agent.save(directory=\"model\", format='numpy', append='episodes')\n",
    "print(npz_path)\n",
    "data = np.load(npz_path)\n",
    "# print(data.files)\n",
    "\n",
    "keys = [\n",
    "    'policy/network/dense0/weights',\n",
    "    'policy/network/dense0/bias',\n",
    "    'policy/network/dense1/weights',\n",
    "    'policy/network/dense1/bias',\n",
    "    'policy/action_value/linear/weights',\n",
    "    'policy/action_value/linear/bias',\n",
    "]\n",
    "model.set_weights([data[k] for k in keys])\n",
    "model.save(f\"model/tf\")\n",
    "\"\"\""
   ]
  }
 ],
 "metadata": {
  "kernelspec": {
   "display_name": "Python 3",
   "language": "python",
   "name": "python3"
  },
  "language_info": {
   "codemirror_mode": {
    "name": "ipython",
    "version": 3
   },
   "file_extension": ".py",
   "mimetype": "text/x-python",
   "name": "python",
   "nbconvert_exporter": "python",
   "pygments_lexer": "ipython3",
   "version": "3.7.12"
  },
  "papermill": {
   "default_parameters": {},
   "duration": 22106.654022,
   "end_time": "2023-01-21T04:26:31.887071",
   "environment_variables": {},
   "exception": null,
   "input_path": "__notebook__.ipynb",
   "output_path": "__notebook__.ipynb",
   "parameters": {},
   "start_time": "2023-01-20T22:18:05.233049",
   "version": "2.3.4"
  }
 },
 "nbformat": 4,
 "nbformat_minor": 5
}
